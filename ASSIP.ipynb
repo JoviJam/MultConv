{
 "cells": [
  {
   "cell_type": "code",
   "execution_count": 195,
   "id": "f22038e5-cb9f-452e-ae98-9f7b3816a681",
   "metadata": {},
   "outputs": [],
   "source": [
    "import numpy as np\n",
    "import matplotlib as plt\n",
    "from math import *"
   ]
  },
  {
   "cell_type": "code",
   "execution_count": 196,
   "id": "ff75f8f1-5a2d-4f13-8d8f-8b1eaca1bcbe",
   "metadata": {},
   "outputs": [],
   "source": [
    "class Plaintext:\n",
    "  \"\"\"Class with different computations for a plaintext object\n",
    "  \"\"\"\n",
    "  def __init__(self, pslots):\n",
    "    \"\"\"\n",
    "    slots: 1D array\n",
    "    \"\"\"\n",
    "\n",
    "    self.slots = np.array(pslots)\n",
    "    self.num_slots = len(pslots)\n",
    "\n",
    "  def __str__(self):\n",
    "    return str(self.slots)\n",
    "\n",
    "  def add(self, other_plain):\n",
    "    \"\"\"Method computes the sum of two plaintext objects\n",
    "  Returns:\n",
    "    Plaintext sum of self and other_plain\n",
    "  \"\"\"\n",
    "\n",
    "    result = self.slots + other_plain.slots\n",
    "    result1 = Plaintext(result)\n",
    "    return result1\n",
    "\n",
    "  def mul(self, other_plain):\n",
    "    \"\"\"Method computes the multiplication of two plaintext objects\n",
    "  Returns:\n",
    "    Plaintext product of self and other_plain\n",
    "  \"\"\"\n",
    "\n",
    "    multresult = self.slots * other_plain.slots\n",
    "    multresult1 = Plaintext(multresult)\n",
    "    return multresult1\n",
    "\n",
    "  def rotate(self, index):\n",
    "    \"\"\"Method computes the rotation of an object for a specific index\n",
    "  Args:\n",
    "    index: number of slots to rotate by\n",
    "  Returns:\n",
    "    Rotated plaintext object\n",
    "    ex: rotating [1,2,3,4] by 1 returns [2,3,4,1]\n",
    "  \"\"\"\n",
    "\n",
    "    test = np.roll(self.slots,-1* index)\n",
    "    test1 = Plaintext(test)\n",
    "    return test1"
   ]
  },
  {
   "cell_type": "code",
   "execution_count": 197,
   "id": "6cc6e79c-0dcd-4191-8016-59a8478270a4",
   "metadata": {},
   "outputs": [
    {
     "name": "stdout",
     "output_type": "stream",
     "text": [
      "[[[ 1  2  3  4]\n",
      "  [ 5  6  7  8]\n",
      "  [ 9 10 11 12]\n",
      "  [13 14 15 16]]\n",
      "\n",
      " [[17 18 19 20]\n",
      "  [21 22 23 24]\n",
      "  [25 26 27 28]\n",
      "  [29 30 31 32]]\n",
      "\n",
      " [[33 34 35 36]\n",
      "  [37 38 39 40]\n",
      "  [41 42 43 44]\n",
      "  [45 46 47 48]]\n",
      "\n",
      " [[49 50 51 52]\n",
      "  [53 54 55 56]\n",
      "  [57 58 59 60]\n",
      "  [61 62 63 64]]]\n"
     ]
    }
   ],
   "source": [
    "params = {\n",
    "        'num_input_channels' : 4, # c_i\n",
    "        'input_width' : 4, # w_i\n",
    "        'input_height' : 4, # h_i\n",
    "        'input_gap' : 2, # k_i\n",
    "        'kernel_height': 3, # f_h\n",
    "        'kernel_width': 3, # f_w\n",
    "        'num_output_channels' : 16, # c_o\n",
    "        'output_gap' : 4, # k_o\n",
    "        'output_height' : 2, # h_o\n",
    "        'output_width' : 2, # w_o\n",
    "        't_i' : 1, # t_i: c_i/k_i^2, number of squares to represent all input channels\n",
    "        't_o' : 1 # t_o: c_o/k_o^2, number of squares to represent all input channels\n",
    "}\n",
    "\n",
    "input_image = np.array([[[i * params['num_input_channels'] * params['input_width'] + \\\n",
    "                          j * params['num_input_channels'] + k + 1 for k in range(params['num_input_channels'])] \\\n",
    "                         for j in range(params['input_width'])] for i in range(params['input_height'])])\n",
    "print(input_image) # Should be (input_height, input_width, num_input_channels)"
   ]
  },
  {
   "cell_type": "code",
   "execution_count": 198,
   "id": "edd06f4a-dfec-491e-a82d-7be2159bd601",
   "metadata": {},
   "outputs": [],
   "source": [
    "def mult_pack(A, params):\n",
    "    \"\"\"\n",
    "    Args:\n",
    "        A (numpy.ndarray): Input tensor \n",
    "        h_i : Height \n",
    "        w_i : Width \n",
    "        c_i: Number of input channels \n",
    "        params['input_gap']: Input gap\n",
    "        t_i\n",
    "\n",
    "    Returns:\n",
    "        A plaintext object which has a 1-D Numpy array slots.\n",
    "    \"\"\"\n",
    "    # Initialize the output tensor A' with zeros\n",
    "    A_prime = np.zeros((params['input_gap'] * params['input_height'], params['input_gap'] * params['input_width'], params['t_i']))\n",
    "\n",
    "    # Fill the A_prime tensor according to the given formula\n",
    "    for i3 in range(params['input_gap'] * params['input_height']):  # Outer tensor height dimension\n",
    "        for i4 in range(params['input_gap'] * params['input_width']):  # Outer tensor width dimension\n",
    "            for i5 in range(params['t_i']):  # Channel dimension after packing\n",
    "                # Map indices from A to A' based on the input gap\n",
    "                orig_i3 = i3 // params['input_gap']\n",
    "                orig_i4 = i4 // params['input_gap']\n",
    "                orig_i5 = ((params['input_gap'] ** 2) * i5) + params['input_gap'] * (i3 % params['input_gap']) + (i4 % params['input_gap'])\n",
    "\n",
    "                if (\n",
    "                    orig_i3 < A.shape[0]\n",
    "                    and orig_i4 < A.shape[1]\n",
    "                    and orig_i5 < A.shape[2]\n",
    "                    and orig_i5 < params['num_input_channels']\n",
    "                ):\n",
    "                    A_prime[i3, i4, i5] = A[orig_i3, orig_i4, orig_i5]\n",
    "\n",
    "    return Plaintext(A_prime.flatten())"
   ]
  },
  {
   "cell_type": "code",
   "execution_count": 199,
   "id": "7823a1f8-a8cd-41bd-98af-b0fba39440d7",
   "metadata": {},
   "outputs": [],
   "source": [
    "def SumSlots(ct_a, m, p):\n",
    "    \"\"\"\n",
    "    SumSlots algorithm implementation using only add, multiply, and rotate.\n",
    "    Args:\n",
    "        ct_a (Plaintext): Input ciphertext.\n",
    "        m (int): Number of added slots\n",
    "        p (int): Gap\n",
    "    \n",
    "    \"\"\"\n",
    "    ct_b = [ct_a]\n",
    "\n",
    "    for j in range(1, int(np.log2(m)) + 1):  # Inclusive loop\n",
    "        rotated = ct_b[j - 1].rotate(2**(j - 1) * p)\n",
    "        ct_b.append(ct_b[j - 1].add(rotated))  \n",
    "\n",
    "    ct_c = ct_b[int(np.log2(m))]\n",
    "\n",
    "    for j in range(0, int(np.log2(m))):  # Exclusive loop\n",
    "        if (m // (2**j)) % 2 == 1:\n",
    "            rotation_distance = (m // (2**(j + 1))) * 2**(j + 1) * p\n",
    "            rotated = ct_b[j].rotate(rotation_distance)\n",
    "            ct_c = ct_c.add(rotated)  \n",
    "\n",
    "    return ct_c #return ciphertext"
   ]
  },
  {
   "cell_type": "code",
   "execution_count": 200,
   "id": "40c45776-5e5f-4de9-bb52-6ccb96d27e94",
   "metadata": {},
   "outputs": [
    {
     "name": "stdout",
     "output_type": "stream",
     "text": [
      "Result: [16 20 16 20 16 20 16 20]\n"
     ]
    }
   ],
   "source": [
    "# ex:\n",
    "ct_a = Plaintext([1, 2, 3, 4, 5, 6, 7, 8])  # Example slots\n",
    "m = 4  # Number of slots\n",
    "p = 2  # Gap\n",
    "\n",
    "# Compute SumSlots\n",
    "result = SumSlots(ct_a, m, p)\n",
    "print(\"Result:\", result)"
   ]
  },
  {
   "cell_type": "code",
   "execution_count": 201,
   "id": "217dcff1-9df4-44b6-bc8a-bf438d455546",
   "metadata": {},
   "outputs": [],
   "source": [
    "def U_prime(U, i1, i2, i, params):\n",
    "    \"\"\"\n",
    "    Creates the multiplexed shifted weight tensor U'\n",
    "    \n",
    "    Args:\n",
    "        U: Original  tensor of shape (fh, fw, ci, co)\n",
    "        i1: Index for filter height dimension\n",
    "        i2: Index for filter width dimension\n",
    "        i: Index for output channel dimension\n",
    "        params: Dictionary containing params ki, hi, wi, ci\n",
    "    \n",
    "    Returns:\n",
    "        Tensor U'(i1,i2,i) of shape (ki*hi, ki*wi, ti)\n",
    "    \"\"\"\n",
    "    \n",
    "    # Initialize the output tensor with zeros\n",
    "    result = np.zeros((params['input_gap'] * params['input_height'], params['input_gap'] * params['input_width']), dtype=object)\n",
    "    \n",
    "    # Fill the tensor according to the conditions\n",
    "    for i3 in range(params['input_gap'] * params['input_height']):\n",
    "        for i4 in range(params['input_gap'] * params['input_width']):\n",
    "            for i5 in range(params['t_i']):\n",
    "            # Check all conditions (with i5=0)\n",
    "                cond1 = ((params['input_gap'] ** 2) * i5) + params['input_gap'] * (i3 % params['input_gap']) + \\\n",
    "                            i4 % params['input_gap'] >= params['num_input_channels']\n",
    "                cond2 = (i3 // params['input_gap']) - (params['kernel_height'] - 1) // 2 + i1 not in range(params['input_height'])\n",
    "                cond3 = (i4 // params['input_gap']) - (params['kernel_width'] - 1) // 2 + i2 not in range(params['input_width'])\n",
    "            \n",
    "                if cond1 or cond2 or cond3:\n",
    "                    result[i3, i4] = 0\n",
    "                else:\n",
    "                # Calculate indices for the original tensor U\n",
    "                    u_idx = (i1, i2, ((params['input_gap'] ** 2) * i5) + \\\n",
    "                             params['input_gap'] * (i3 % params['input_gap']) + i4 % params['input_gap'], i)\n",
    "                    result[i3, i4] = U[u_idx]\n",
    "                \n",
    "    return result"
   ]
  },
  {
   "cell_type": "code",
   "execution_count": 202,
   "id": "e35a8b71-4d46-4574-9842-5bc17acfeba2",
   "metadata": {},
   "outputs": [],
   "source": [
    "def Vector_S(prime):\n",
    "    return prime.flatten()"
   ]
  },
  {
   "cell_type": "code",
   "execution_count": 203,
   "id": "bc1a75b7-01c9-4b34-98fe-157247ce6a90",
   "metadata": {},
   "outputs": [],
   "source": [
    "def S_prime(params, i):\n",
    "    S_prime = np.zeros((params['output_gap']*params['output_height'], params['output_gap']*params['output_width'], params['t_o']), dtype=int)\n",
    "\n",
    "    for i3 in range(params['output_gap']*params['output_height']):\n",
    "        for i4 in range(params['output_gap']*params['output_width']):\n",
    "            for i5 in range(params['t_o']):\n",
    "                if ((params['output_gap']**2)*i5) + params['output_gap'] * (i3 % params['output_gap']) + i4 % params['output_gap'] ==i:\n",
    "                    S_prime[i3, i4, i5] = 1\n",
    "                else:\n",
    "                    S_prime[i3, i4, i5] = 0\n",
    "    return(Plaintext(Vector_S(S_prime)))"
   ]
  },
  {
   "cell_type": "code",
   "execution_count": 204,
   "id": "8abb8528-0cc8-4591-84f8-8c62fb03dc9b",
   "metadata": {},
   "outputs": [
    {
     "name": "stdout",
     "output_type": "stream",
     "text": [
      "[1 0 0 0 1 0 0 0 0 0 0 0 0 0 0 0 0 0 0 0 0 0 0 0 0 0 0 0 0 0 0 0 1 0 0 0 1\n",
      " 0 0 0 0 0 0 0 0 0 0 0 0 0 0 0 0 0 0 0 0 0 0 0 0 0 0 0]\n"
     ]
    }
   ],
   "source": [
    "i = 0\n",
    "selecting_tensor = S_prime(params, i)\n",
    "print(selecting_tensor)"
   ]
  },
  {
   "cell_type": "code",
   "execution_count": 205,
   "id": "8a5569fe-69e6-42d8-a8ed-6a8fd4f4dce2",
   "metadata": {},
   "outputs": [],
   "source": [
    "def weightU(params):\n",
    "    weightU = np.array([[[[i * params['num_input_channels'] * params['kernel_width'] * params['num_output_channels'] + \\\n",
    "                              j * params['num_input_channels'] * params['num_output_channels'] + k * params['num_output_channels'] + \\\n",
    "                              l + 1 \n",
    "                              for l in range(params['num_output_channels'])] \\\n",
    "                              for k in range(params['num_input_channels'])] \\\n",
    "                              for j in range(params['kernel_width'])] \\\n",
    "                              for i in range(params['kernel_height'])])\n",
    "    '''\n",
    "    weightU = np.zeros((params['kernel_height'], params['kernel_width'], params['num_input_channels'], params['num_output_channels']))\n",
    "    count = 1\n",
    "    for i in range(params['kernel_height']):\n",
    "        for j in range(params['kernel_width']):\n",
    "            for k in range(params['num_input_channels']):\n",
    "                for l in range(params['num_output_channels']):\n",
    "                    weightU[i][j][k][l] = count\n",
    "                    count += 1\n",
    "    print(weightU)\n",
    "    '''\n",
    "    return weightU"
   ]
  },
  {
   "cell_type": "code",
   "execution_count": 206,
   "id": "52337473-8c0b-4915-af10-9d82336b282d",
   "metadata": {},
   "outputs": [],
   "source": [
    "def mult_wgt(U, i1, i2, i, params):\n",
    "    \"\"\"\n",
    "    Implements the simplified MultWgt function with ti=1 and i5=0.\n",
    "    \n",
    "    Args:\n",
    "        U: Weight tensor (params['kernel_height'], fw, ci, co)\n",
    "        i1: Index for filter height \n",
    "        i2: Index for filter width \n",
    "        i: Index for output channel \n",
    "        params: Dictionary containing params (ki, hi, wi, ci)\n",
    "    \n",
    "    Returns:\n",
    "        Vector of U'(multiplexed shifted weight tensor)\n",
    "    \"\"\"\n",
    "    \n",
    "    # Create the multiplexed shifted weight tensor\n",
    "    multiplexed = U_prime(U, i1, i2, i, params)\n",
    "    \n",
    "    # flatten the tensor \n",
    "    return multiplexed.flatten()"
   ]
  },
  {
   "cell_type": "code",
   "execution_count": 207,
   "id": "486cd481-09c4-4dd3-ba32-34b58a74ae4d",
   "metadata": {},
   "outputs": [],
   "source": [
    "def multConv(ct_aprime, U, params):\n",
    "    num_slots = len(ct_aprime.slots)\n",
    "    zero_slots = np.zeros(num_slots)\n",
    "    ct_zero = Plaintext(zero_slots)\n",
    "    ct_d = ct_zero\n",
    "    ct_prime = {}\n",
    "    for i1 in range(params['kernel_height']):\n",
    "        for i2 in range(params['kernel_width']):\n",
    "            rotation = params['output_gap'] ** 2 * ((i1 - (params['kernel_height'] - 1) // 2) // 2) \\\n",
    "                        + params['output_gap'] * ((i2 - (params['kernel_width'] - 1) // 2 ) // 2)\n",
    "            ct_prime[(i1, i2)] = ct_aprime.rotate(rotation)\n",
    "    for i in range(params['num_output_channels']):\n",
    "        ct_b = ct_zero\n",
    "        for i1 in range(params['kernel_height']):\n",
    "            for i2 in range(params['kernel_width']):\n",
    "                weight = mult_wgt(U, i1, i2, i, params).flatten()\n",
    "                #print(\"(i1, i2, i): \" + str(i1) + \", \" + str(i2) + \", \" + str(i))\n",
    "                #print(weight)\n",
    "                weight_p = Plaintext(weight)\n",
    "                ct_b = ct_b.add(ct_prime[(i1, i2)].mul(weight_p))\n",
    "        ct_c = SumSlots(ct_b, params['output_gap'], 1)\n",
    "        ct_c = SumSlots(ct_c, params['output_gap'], params['output_gap'] * params['output_width'])\n",
    "        ct_c = SumSlots(ct_c, 1, (params['output_gap'] ** 2) * params['output_height'] * params['output_width'])\n",
    "        rot = -(((i // (params['output_gap'] ** 2)) * (params['output_gap'] ** 2) * params['output_height'] * params['output_width']) + \\\n",
    "                (((i % (params['output_gap']**2)) // params['output_gap']) * params['output_gap'] * params['output_width']) + \\\n",
    "                (i % params['output_gap']))\n",
    "        ct_d = ct_d.add(ct_c.rotate(rot).mul(S_prime(params, i)))\n",
    "    return ct_d"
   ]
  },
  {
   "cell_type": "code",
   "execution_count": 208,
   "id": "94913355-8d5b-4ff9-a114-cf8d6aee4884",
   "metadata": {},
   "outputs": [
    {
     "name": "stdout",
     "output_type": "stream",
     "text": [
      "(3, 3, 4, 16)\n",
      "[490282.0 491796.0 493310.0 494824.0 521274.0 522804.0 524334.0 525864.0\n",
      " 496338.0 497852.0 499366.0 500880.0 527394.0 528924.0 530454.0 531984.0\n",
      " 502394.0 503908.0 505422.0 506936.0 533514.0 535044.0 536574.0 538104.0\n",
      " 508450.0 509964.0 511478.0 512992.0 539634.0 541164.0 542694.0 544224.0\n",
      " 1004714.0 1008404.0 1012094.0 1015784.0 1016634.0 1020724.0 1024814.0\n",
      " 1028904.0 1019474.0 1023164.0 1026854.0 1030544.0 1032994.0 1037084.0\n",
      " 1041174.0 1045264.0 1034234.0 1037924.0 1041614.0 1045304.0 1049354.0\n",
      " 1053444.0 1057534.0 1061624.0 1048994.0 1052684.0 1056374.0 1060064.0\n",
      " 1065714.0 1069804.0 1073894.0 1077984.0]\n"
     ]
    }
   ],
   "source": [
    "ct_aprime = mult_pack(input_image, params)\n",
    "U = weightU(params)\n",
    "print(U.shape)\n",
    "ct_d = multConv(ct_aprime, U, params)\n",
    "print(ct_d)"
   ]
  },
  {
   "cell_type": "code",
   "execution_count": 209,
   "id": "39599bcb-d64b-42c2-b96a-f83741996cc2",
   "metadata": {},
   "outputs": [],
   "source": [
    "def zeroBorder(array):\n",
    "  \"\"\"Method adds a border of zeros around the array\n",
    "  Args:\n",
    "    n: length of the array\n",
    "  Returns:\n",
    "    borderArray: array with a border of zeros\n",
    "  \"\"\"\n",
    "  if array.ndim == 2:\n",
    "      n = array.shape[0]\n",
    "      borderArray = np.zeros((n+2, n+2))\n",
    "      borderArray[1:-1, 1:-1] = array\n",
    "  elif array.ndim == 3:\n",
    "      c, n, m = array.shape\n",
    "      borderArray = np.zeros((c, n+2, m+2))\n",
    "      borderArray[:, 1:-1, 1:-1] = array\n",
    "  return borderArray"
   ]
  },
  {
   "cell_type": "code",
   "execution_count": 210,
   "id": "177a899e-d528-44ff-9e91-74534f31d9a4",
   "metadata": {},
   "outputs": [],
   "source": [
    "def outputDimensions(image, stride, kernel_height, kernel_width):\n",
    "    borderArray = zeroBorder(image)\n",
    "    _, padded_height, padded_width = borderArray.shape \n",
    "    outputHeight = ((padded_height - kernel_height) // stride) + 1\n",
    "    outputWidth = ((padded_width - kernel_width) // stride) + 1\n",
    "    return borderArray, outputHeight, outputWidth"
   ]
  },
  {
   "cell_type": "code",
   "execution_count": 211,
   "id": "a9d766b6-5523-4aef-bc7f-ab146a5b91e2",
   "metadata": {},
   "outputs": [],
   "source": [
    "def twod_naive_convolution(image, kernel, borderArray, image_height, image_width, kernel_height, kernel_width, stride, outputHeight, outputWidth):\n",
    "  \"\"\"Method computes the convolution of an image and a kernel with only one output channel\n",
    "  Args:\n",
    "    image: image as a 1D array\n",
    "    kernel: kernel as a 1D array\n",
    "    borderArray: image with a border of zeros\n",
    "    outputImage: convoluted image\n",
    "  Returns:\n",
    "    The convoluted image\n",
    "  \"\"\"\n",
    "  \n",
    "  image = image.reshape(image_height, image_width)\n",
    "  kernel = kernel.reshape(kernel_height, kernel_width)\n",
    "\n",
    "  #borderArray = zeroBorder(image)\n",
    "  #padded_height, padded_width = borderArray.shape \n",
    "\n",
    "  #print(f\"The padded image is \\n {borderArray}\")\n",
    "  #outputHeight = ((padded_height - kernel_height) // stride) + 1\n",
    "  #outputWidth = ((padded_width - kernel_width) // stride) + 1\n",
    "  output_Image = np.zeros((outputHeight, outputWidth))\n",
    "    \n",
    "  for i in range(outputHeight):\n",
    "      for j in range(outputWidth):\n",
    "          start_i = i * stride\n",
    "          start_j = j * stride\n",
    "          matrix = borderArray[start_i : start_i + kernel_height, start_j : start_j + kernel_width]\n",
    "          mult = np.multiply(matrix, kernel)\n",
    "          add = np.sum(mult)\n",
    "          output_Image[i, j] = add\n",
    "  return output_Image"
   ]
  },
  {
   "cell_type": "code",
   "execution_count": 212,
   "id": "4fac406d-4964-403b-8343-5fd1f40f810a",
   "metadata": {},
   "outputs": [],
   "source": [
    "def threed_naive_convolution(image, kernel, image_height, image_width, num_input_channels, num_output_channels, kernel_height, kernel_width, stride):\n",
    "    borderArray, output_Height, output_Width = outputDimensions(image, stride, kernel_height, kernel_width) \n",
    "    print(output_Height, output_Width, num_output_channels)\n",
    "    output = np.zeros((output_Height, output_Width, num_output_channels))\n",
    "\n",
    "    #print(output.shape)\n",
    "    for i in range(num_output_channels):\n",
    "      #print(f\"Output Channel {i}:\\n{output[:, :, i]}\")\n",
    "      for j in range(num_input_channels):\n",
    "        #print(f\"Kernel for input channel {j} -> output channel {i}:\\n{kernel[j, i]}\")\n",
    "        convolution = twod_naive_convolution(image[j], kernel[:, :, j,i], borderArray[j], image_height, image_width, kernel_height, kernel_width, stride, output_Height, output_Width)\n",
    "        #print(f\"Convolution result for input channel {j}, output channel {i}:\\n{convolution}\")\n",
    "        output[:,:,i] += convolution\n",
    "        #print(f\"Output channel {i} after input channel {j} contribution:\\n{output[:, :, i]}\")\n",
    "\n",
    "    print(output.shape)\n",
    "    return output"
   ]
  },
  {
   "cell_type": "code",
   "execution_count": 213,
   "id": "b27c16c7-bce5-43fd-8b7a-f0569fa85f55",
   "metadata": {},
   "outputs": [],
   "source": [
    "#input1 = np.array([[1,2,3],[4,5,6],[7,8,9]])\n",
    "#input2 = np.array([[2,3,4],[5,6,7],[8,9,10]])\n",
    "#inputchannels = np.array([input1, input2])\n",
    "#threedkernel1 = np.array([[1,2,3],[4,5,6],[7,8,9]])\n",
    "#threedkernel2 = np.array([[2,3,4],[5,6,7],[8,9,10]])\n",
    "#threedkernel3 = np.array([[1,2,3],[4,5,6],[7,8,9]])\n",
    "#threedkernel4 = np.array([[2,3,4],[5,6,7],[8,9,10]])\n",
    "#threedkernel5 = np.array([[1,2,3],[4,5,6],[7,8,9]])\n",
    "#threedkernel6 = np.array([[2,3,4],[5,6,7],[8,9,10]])\n",
    "#threedkernel7 = np.array([[1,2,3],[4,5,6],[7,8,9]])\n",
    "#threedkernel8 = np.array([[2,3,4],[5,6,7],[8,9,10]])\n",
    "#threedkernel = np.array([threedkernel1, threedkernel2, threedkernel3, threedkernel4, threedkernel5, threedkernel6, threedkernel7, threedkernel8])\n",
    "#num_output_channels = int(threedkernel.shape[0]/inputchannels.shape[0])\n",
    "#print(threedkernel.shape)\n",
    "#print(threedkernel.size)\n",
    "#threedkernel = threedkernel.reshape(inputchannels.shape[0], num_output_channels, 3, 3)\n",
    "#convoluted_Image = threed_naive_convolution(inputchannels, threedkernel, inputchannels.shape[1], inputchannels.shape[2], inputchannels.shape[0], num_output_channels, threedkernel.shape[2], threedkernel.shape[3], 1)\n",
    "\n",
    "#print(convoluted_Image)"
   ]
  },
  {
   "cell_type": "code",
   "execution_count": 214,
   "id": "ca034fb1-e980-4438-9204-a04840a268d0",
   "metadata": {},
   "outputs": [],
   "source": [
    "# Check that the above output matches multPack(C)\n",
    "# C = 3d-conv(input_image, U, params) with stride 2\n",
    "# Implement 3d-conv with stride parameter and test with s = 2"
   ]
  },
  {
   "cell_type": "code",
   "execution_count": 215,
   "id": "c2edcafa-3cbc-44bb-bb16-e552f965d0c7",
   "metadata": {},
   "outputs": [
    {
     "name": "stdout",
     "output_type": "stream",
     "text": [
      "2 2 4\n",
      "(2, 2, 4)\n"
     ]
    },
    {
     "data": {
      "text/plain": [
       "<__main__.Plaintext at 0x177aef15de0>"
      ]
     },
     "execution_count": 215,
     "metadata": {},
     "output_type": "execute_result"
    }
   ],
   "source": [
    "U = U.reshape(U.shape[0], U.shape[1], params['num_input_channels'], params['num_output_channels'] )\n",
    "C = threed_naive_convolution(input_image, U, input_image.shape[1], input_image.shape[2], input_image.shape[0], num_output_channels, U.shape[0], U.shape[1], 2)\n",
    "mult_pack(C, params)"
   ]
  },
  {
   "cell_type": "code",
   "execution_count": null,
   "id": "5afbb60c-d311-46c8-94da-6e52ea852288",
   "metadata": {},
   "outputs": [],
   "source": []
  }
 ],
 "metadata": {
  "kernelspec": {
   "display_name": "Python 3 (ipykernel)",
   "language": "python",
   "name": "python3"
  },
  "language_info": {
   "codemirror_mode": {
    "name": "ipython",
    "version": 3
   },
   "file_extension": ".py",
   "mimetype": "text/x-python",
   "name": "python",
   "nbconvert_exporter": "python",
   "pygments_lexer": "ipython3",
   "version": "3.10.11"
  }
 },
 "nbformat": 4,
 "nbformat_minor": 5
}
